{
 "cells": [
  {
   "cell_type": "markdown",
   "metadata": {
    "slideshow": {
     "slide_type": "slide"
    }
   },
   "source": [
    "# How to work with scientific literature"
   ]
  },
  {
   "cell_type": "markdown",
   "metadata": {
    "slideshow": {
     "slide_type": "slide"
    }
   },
   "source": [
    "# Outline\n",
    "\n",
    "* Intro / Motivation\n",
    "* The way of paper\n",
    "* Search: Scholar Google and beyond\n",
    "* Working through paper\n",
    "* Storage and collaboration\n",
    "* A bit on economics: Why $15-45 a paper?"
   ]
  },
  {
   "cell_type": "markdown",
   "metadata": {
    "slideshow": {
     "slide_type": "slide"
    }
   },
   "source": [
    "# Slides and links\n",
    "\n",
    "TODO: QR-code, URL"
   ]
  },
  {
   "cell_type": "markdown",
   "metadata": {
    "slideshow": {
     "slide_type": "slide"
    }
   },
   "source": [
    "# Intro"
   ]
  },
  {
   "cell_type": "markdown",
   "metadata": {
    "slideshow": {
     "slide_type": "slide"
    }
   },
   "source": [
    "## Papers, papers, PAPERS ....\n",
    "\n",
    "* ArXiv.org\n",
    "* NIPS\n",
    "* ACL\n",
    "* ACM"
   ]
  },
  {
   "cell_type": "markdown",
   "metadata": {
    "slideshow": {
     "slide_type": "slide"
    }
   },
   "source": [
    "## Goals\n",
    "\n",
    "* Academia\n",
    "  - New knowledge\n",
    "  - Grants\n",
    "* Industry\n",
    "  - New but settled approaches\n",
    "  - Algorithms / data / details"
   ]
  },
  {
   "cell_type": "markdown",
   "metadata": {
    "slideshow": {
     "slide_type": "slide"
    }
   },
   "source": [
    "## Cost curve\n",
    "\n",
    "TODO: ??? is possible"
   ]
  },
  {
   "cell_type": "markdown",
   "metadata": {
    "slideshow": {
     "slide_type": "slide"
    }
   },
   "source": [
    "## About me\n",
    "\n",
    "* In R&D since 1995\n",
    "  * Academy: Optics (images)\n",
    "  * Industry: simulation / HPC\n",
    "  * ML\n",
    "* PhD / optics"
   ]
  },
  {
   "cell_type": "markdown",
   "metadata": {
    "slideshow": {
     "slide_type": "slide"
    }
   },
   "source": [
    "## Some stats\n",
    "\n",
    "TODO: annual number of papers"
   ]
  },
  {
   "cell_type": "markdown",
   "metadata": {
    "slideshow": {
     "slide_type": "slide"
    }
   },
   "source": [
    "# The way of paper"
   ]
  },
  {
   "cell_type": "markdown",
   "metadata": {
    "slideshow": {
     "slide_type": "slide"
    }
   },
   "source": [
    "## Paper types\n",
    "\n",
    "* 'Classical'\n",
    "  * Letter\n",
    "  * (Regular / full) article\n",
    "  * Review\n",
    "  * Tutorial\n",
    "  * Conference (extended) abstract\n",
    "  * Conference proceedings\n",
    "  * Book chapter\n",
    "* 'New way'\n",
    "  * e-print\n",
    "* Status\n",
    "  * Invited"
   ]
  },
  {
   "cell_type": "markdown",
   "metadata": {
    "slideshow": {
     "slide_type": "slide"
    }
   },
   "source": [
    "## Why????"
   ]
  },
  {
   "cell_type": "markdown",
   "metadata": {
    "slideshow": {
     "slide_type": "fragment"
    }
   },
   "source": [
    "* Community\n",
    "* Habits and traditions\n",
    "* Slow pace"
   ]
  },
  {
   "cell_type": "markdown",
   "metadata": {
    "slideshow": {
     "slide_type": "slide"
    }
   },
   "source": [
    "## Peer-review\n",
    "\n",
    "TODO: diagram"
   ]
  },
  {
   "cell_type": "markdown",
   "metadata": {
    "slideshow": {
     "slide_type": "fragment"
    }
   },
   "source": [
    "Rejectrion ratio / Time / Bias"
   ]
  },
  {
   "cell_type": "markdown",
   "metadata": {
    "slideshow": {
     "slide_type": "slide"
    }
   },
   "source": [
    "## Review: variants\n",
    "\n",
    "* Endorsement (arXiv.org)\n",
    "* Editor's coice (coference)\n",
    "* Single-round (conferences)\n",
    "* Post-publication (experimental)"
   ]
  },
  {
   "cell_type": "markdown",
   "metadata": {
    "slideshow": {
     "slide_type": "notes"
    }
   },
   "source": [
    "Experiments: https://distill.pub"
   ]
  },
  {
   "cell_type": "markdown",
   "metadata": {
    "slideshow": {
     "slide_type": "slide"
    }
   },
   "source": [
    "## Review: NIPS\n",
    "\n",
    "TODO: https://nips.cc/Conferences/2016/PaperInformation/ReviewerInstructions"
   ]
  },
  {
   "cell_type": "markdown",
   "metadata": {
    "slideshow": {
     "slide_type": "slide"
    }
   },
   "source": [
    "## Endorsement: arXiv.org\n",
    "\n",
    "TODO: screenshot"
   ]
  },
  {
   "cell_type": "markdown",
   "metadata": {
    "slideshow": {
     "slide_type": "slide"
    }
   },
   "source": [
    "## arXiv.org: story\n",
    "\n",
    "Why it was banned back in 1990?"
   ]
  },
  {
   "cell_type": "markdown",
   "metadata": {
    "slideshow": {
     "slide_type": "slide"
    }
   },
   "source": [
    "xxx.lanl.gov"
   ]
  },
  {
   "cell_type": "markdown",
   "metadata": {
    "slideshow": {
     "slide_type": "slide"
    }
   },
   "source": [
    "# Where to find them?\n",
    "\n",
    "TODO: image"
   ]
  },
  {
   "cell_type": "markdown",
   "metadata": {
    "slideshow": {
     "slide_type": "slide"
    }
   },
   "source": [
    "## scholar.google.com\n",
    "\n",
    "TODO: screeenshot"
   ]
  },
  {
   "cell_type": "markdown",
   "metadata": {
    "slideshow": {
     "slide_type": "slide"
    }
   },
   "source": [
    "## scholar.google.com\n",
    "\n",
    "TODO: screeenshot - citations"
   ]
  },
  {
   "cell_type": "markdown",
   "metadata": {
    "slideshow": {
     "slide_type": "slide"
    }
   },
   "source": [
    "## scholar.google.com\n",
    "\n",
    "* Non-commercial project\n",
    "* Citations\n",
    "* Free PDFs\n",
    "* Author profile\n",
    "* Recommendations (for authors!)"
   ]
  },
  {
   "cell_type": "markdown",
   "metadata": {
    "slideshow": {
     "slide_type": "slide"
    }
   },
   "source": [
    "## Author profile\n",
    "\n",
    "TODO: Yan LeCun?"
   ]
  },
  {
   "cell_type": "markdown",
   "metadata": {
    "slideshow": {
     "slide_type": "slide"
    }
   },
   "source": [
    "## DOI\n",
    "\n",
    "* Digital Opject Identifier\n",
    "* doi.org/10.ddd/xxxxxxx\n",
    "* Not only papers:\n",
    "  - Zenodo TODO\n",
    "  - GitHub TODO\n",
    "  - figshare TODO"
   ]
  },
  {
   "cell_type": "markdown",
   "metadata": {
    "slideshow": {
     "slide_type": "slide"
    }
   },
   "source": [
    "## arxiv-sanity.org\n",
    "\n",
    "TODO: screenshot"
   ]
  },
  {
   "cell_type": "markdown",
   "metadata": {
    "slideshow": {
     "slide_type": "slide"
    }
   },
   "source": [
    "## researchgate.net\n",
    "\n",
    "TODO: screenshot"
   ]
  },
  {
   "cell_type": "markdown",
   "metadata": {
    "slideshow": {
     "slide_type": "slide"
    }
   },
   "source": [
    "## researchgate.net\n",
    "\n",
    "* Subscription\n",
    "* Reads\n",
    "* Citations\n",
    "* Status unclear"
   ]
  },
  {
   "cell_type": "markdown",
   "metadata": {
    "slideshow": {
     "slide_type": "slide"
    }
   },
   "source": [
    "## Open data\n",
    "\n",
    "* arXiv.org: OAI-MHP (?)\n",
    "* Cross-ref\n",
    "* Open citations"
   ]
  },
  {
   "cell_type": "markdown",
   "metadata": {
    "slideshow": {
     "slide_type": "slide"
    }
   },
   "source": [
    "# Working through a paper"
   ]
  },
  {
   "cell_type": "markdown",
   "metadata": {
    "slideshow": {
     "slide_type": "slide"
    }
   },
   "source": [
    "## Possible order\n",
    "\n",
    "* Authors\n",
    "* Refences\n",
    "* Figures / tables\n",
    "* Discussion\n",
    "* Code\n",
    "* Supplement\n",
    "* ... read all!"
   ]
  },
  {
   "cell_type": "markdown",
   "metadata": {
    "slideshow": {
     "slide_type": "slide"
    }
   },
   "source": [
    "## Author order\n",
    "\n",
    "TODO: order"
   ]
  },
  {
   "cell_type": "markdown",
   "metadata": {
    "slideshow": {
     "slide_type": "slide"
    }
   },
   "source": [
    "## References\n",
    "\n",
    "TODO: example"
   ]
  },
  {
   "cell_type": "markdown",
   "metadata": {
    "slideshow": {
     "slide_type": "slide"
    }
   },
   "source": [
    "## References\n",
    "\n",
    "TODO: ???? old style"
   ]
  },
  {
   "cell_type": "markdown",
   "metadata": {
    "slideshow": {
     "slide_type": "slide"
    }
   },
   "source": [
    "## Caveats\n",
    "\n",
    "* Style\n",
    "* Author's goal: new result\n",
    "* Reference relevance\n",
    "* No sentiments\n",
    "* Code updates, ..."
   ]
  },
  {
   "cell_type": "markdown",
   "metadata": {
    "slideshow": {
     "slide_type": "slide"
    }
   },
   "source": [
    "# Storing and collaborationg"
   ]
  },
  {
   "cell_type": "markdown",
   "metadata": {
    "slideshow": {
     "slide_type": "slide"
    }
   },
   "source": [
    "Why???\n",
    "\n",
    "* Notes and comments\n",
    "* Access instability"
   ]
  },
  {
   "cell_type": "markdown",
   "metadata": {
    "slideshow": {
     "slide_type": "slide"
    }
   },
   "source": [
    "## bibTeX\n",
    "\n",
    "TODO: example"
   ]
  },
  {
   "cell_type": "markdown",
   "metadata": {
    "slideshow": {
     "slide_type": "slide"
    }
   },
   "source": [
    "## bibTeX & JabRef\n",
    "\n",
    "TODO: screenchot"
   ]
  },
  {
   "cell_type": "markdown",
   "metadata": {
    "slideshow": {
     "slide_type": "notes"
    }
   },
   "source": [
    "TODO: URL, docu, etc."
   ]
  },
  {
   "cell_type": "markdown",
   "metadata": {
    "slideshow": {
     "slide_type": "slide"
    }
   },
   "source": [
    "## Zotero\n",
    "\n",
    "TODO: screenshot"
   ]
  },
  {
   "cell_type": "markdown",
   "metadata": {
    "slideshow": {
     "slide_type": "slide"
    }
   },
   "source": [
    "TODO: URL etc."
   ]
  },
  {
   "cell_type": "markdown",
   "metadata": {
    "slideshow": {
     "slide_type": "slide"
    }
   },
   "source": [
    "## Zotero: features and issues\n",
    "\n",
    "* Not only scholar papers (web-pages)\n",
    "* Export / import\n",
    "* Community\n",
    "* Extensions\n",
    "* Collaborration: paid!"
   ]
  },
  {
   "cell_type": "markdown",
   "metadata": {
    "slideshow": {
     "slide_type": "slide"
    }
   },
   "source": [
    "## Mendeley\n",
    "\n",
    "TODO: screenshot"
   ]
  },
  {
   "cell_type": "markdown",
   "metadata": {
    "slideshow": {
     "slide_type": "slide"
    }
   },
   "source": [
    "TODO: URL, etc."
   ]
  },
  {
   "cell_type": "markdown",
   "metadata": {
    "slideshow": {
     "slide_type": "slide"
    }
   },
   "source": [
    "## Mendeley\n",
    "\n",
    "* Process raw collection\n",
    "* Mobile client\n",
    "* Proprietory\n",
    "* Collaboration: paid!"
   ]
  },
  {
   "cell_type": "markdown",
   "metadata": {
    "slideshow": {
     "slide_type": "slide"
    }
   },
   "source": [
    "## I'Librarian\n",
    "\n",
    "TODO: screenshot"
   ]
  },
  {
   "cell_type": "markdown",
   "metadata": {
    "slideshow": {
     "slide_type": "slide"
    }
   },
   "source": [
    "TODO: URL, GitHub"
   ]
  },
  {
   "cell_type": "markdown",
   "metadata": {
    "slideshow": {
     "slide_type": "slide"
    }
   },
   "source": [
    "## I'Librarian\n",
    "\n",
    "* Easy setup\n",
    "* Collaboration\n",
    "* Almost no sharing of comments\n",
    "* Low support / rare updates\n",
    "* Old-style PHP code"
   ]
  },
  {
   "cell_type": "markdown",
   "metadata": {
    "slideshow": {
     "slide_type": "slide"
    }
   },
   "source": [
    "# A bit on economics \n",
    "\n",
    "Why so expensive?"
   ]
  },
  {
   "cell_type": "markdown",
   "metadata": {
    "slideshow": {
     "slide_type": "slide"
    }
   },
   "source": [
    "## Classical publishing process\n",
    "\n",
    "TODO: diagram"
   ]
  },
  {
   "cell_type": "markdown",
   "metadata": {
    "slideshow": {
     "slide_type": "slide"
    }
   },
   "source": [
    "## Classical publishing process\n",
    "\n",
    "TODO: screenshot / offprints"
   ]
  },
  {
   "cell_type": "markdown",
   "metadata": {
    "slideshow": {
     "slide_type": "slide"
    }
   },
   "source": [
    "## Classical publishing process\n",
    "\n",
    "TODO: offprints photo"
   ]
  },
  {
   "cell_type": "markdown",
   "metadata": {
    "slideshow": {
     "slide_type": "slide"
    }
   },
   "source": [
    "## Classical publishing process\n",
    "\n",
    "TODO: advertizing story"
   ]
  },
  {
   "cell_type": "markdown",
   "metadata": {
    "slideshow": {
     "slide_type": "slide"
    }
   },
   "source": [
    "## Early 2000s revolution\n",
    "\n",
    "TODO: diagram"
   ]
  },
  {
   "cell_type": "markdown",
   "metadata": {
    "slideshow": {
     "slide_type": "slide"
    }
   },
   "source": [
    "## Bell Syst. Tech. J\n",
    "\n",
    "TODO: cover / example"
   ]
  },
  {
   "cell_type": "markdown",
   "metadata": {
    "slideshow": {
     "slide_type": "slide"
    }
   },
   "source": [
    "## Future\n",
    "\n",
    "* Copyright reform\n",
    "* New publishing modles\n",
    "* Data science:\n",
    "  - Products\n",
    "  - Automatic analysis\n",
    "  - ???"
   ]
  },
  {
   "cell_type": "markdown",
   "metadata": {
    "slideshow": {
     "slide_type": "slide"
    }
   },
   "source": [
    "# Thank you for attention"
   ]
  }
 ],
 "metadata": {
  "celltoolbar": "Slideshow",
  "kernelspec": {
   "display_name": "Python 3",
   "language": "python",
   "name": "python3"
  },
  "language_info": {
   "codemirror_mode": {
    "name": "ipython",
    "version": 3
   },
   "file_extension": ".py",
   "mimetype": "text/x-python",
   "name": "python",
   "nbconvert_exporter": "python",
   "pygments_lexer": "ipython3",
   "version": "3.6.3"
  }
 },
 "nbformat": 4,
 "nbformat_minor": 2
}
